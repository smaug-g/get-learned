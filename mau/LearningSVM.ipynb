{
 "cells": [
  {
   "cell_type": "markdown",
   "metadata": {},
   "source": [
    "## Preprocessing\n",
    "Text already converted to TFIDF"
   ]
  },
  {
   "cell_type": "code",
   "execution_count": 1,
   "metadata": {},
   "outputs": [],
   "source": [
    "%matplotlib notebook\n",
    "import numpy as np\n",
    "import scipy\n",
    "import sklearn\n",
    "import matplotlib.pyplot as plt"
   ]
  },
  {
   "cell_type": "code",
   "execution_count": 2,
   "metadata": {},
   "outputs": [],
   "source": [
    "with np.load('dataMau.npz') as loaded:\n",
    "    # action/adv = r | rom/com = b | drama/crime = 'g' | bio/doc = 'y'\n",
    "    colors = loaded['colors']\n",
    "    y = loaded['y']\n",
    "    # tfidf vectors on title\n",
    "    tfidf = loaded['Xtfidf']\n",
    "    # imdbid, year, runtime, score\n",
    "    extra = loaded['otherData']"
   ]
  },
  {
   "cell_type": "code",
   "execution_count": 3,
   "metadata": {},
   "outputs": [],
   "source": [
    "# Put runtime, score, and title TFIDF into data MTX.\n",
    "X = np.zeros([tfidf.shape[0], tfidf.shape[1] + 2])\n",
    "X[:,0:2] = extra[:, 2:]\n",
    "X[:, 2:] = tfidf"
   ]
  },
  {
   "cell_type": "code",
   "execution_count": 4,
   "metadata": {},
   "outputs": [],
   "source": [
    "# generate random partition of data\n",
    "np.random.seed(1)\n",
    "testIdx = np.random.choice(y.shape[0], 200, replace=False)"
   ]
  },
  {
   "cell_type": "markdown",
   "metadata": {},
   "source": [
    "## Train an SVM on raw vectorized data"
   ]
  },
  {
   "cell_type": "code",
   "execution_count": 5,
   "metadata": {},
   "outputs": [],
   "source": [
    "y_test = y[testIdx]\n",
    "y_train = np.delete(y, testIdx)\n",
    "X_test = X[testIdx, :]\n",
    "X_train = np.delete(X, testIdx, axis=0)"
   ]
  },
  {
   "cell_type": "code",
   "execution_count": 6,
   "metadata": {},
   "outputs": [
    {
     "name": "stderr",
     "output_type": "stream",
     "text": [
      "/usr/local/lib/python3.7/site-packages/sklearn/svm/base.py:922: ConvergenceWarning: Liblinear failed to converge, increase the number of iterations.\n",
      "  \"the number of iterations.\", ConvergenceWarning)\n"
     ]
    },
    {
     "data": {
      "text/plain": [
       "LinearSVC(C=1.0, class_weight=None, dual=True, fit_intercept=True,\n",
       "     intercept_scaling=1, loss='squared_hinge', max_iter=100000,\n",
       "     multi_class='ovr', penalty='l2', random_state=None, tol=0.0001,\n",
       "     verbose=0)"
      ]
     },
     "execution_count": 6,
     "metadata": {},
     "output_type": "execute_result"
    }
   ],
   "source": [
    "# train an SVM classifier\n",
    "from sklearn import svm\n",
    "clf = svm.LinearSVC(penalty='l2', dual=True, multi_class='ovr', max_iter=100000)\n",
    "clf.fit(X_train, y_train)"
   ]
  },
  {
   "cell_type": "code",
   "execution_count": 8,
   "metadata": {},
   "outputs": [
    {
     "name": "stdout",
     "output_type": "stream",
     "text": [
      "Misflassification error 0.405000\n"
     ]
    }
   ],
   "source": [
    "from sklearn.metrics import confusion_matrix\n",
    "from sklearn.metrics import f1_score\n",
    "\n",
    "y_pred = clf.predict(X_test)\n",
    "a = confusion_matrix(y_test, y_pred)\n",
    "print(\"Misflassification error %f\" %((a.sum() - a.trace()) / a.sum()))"
   ]
  },
  {
   "cell_type": "markdown",
   "metadata": {},
   "source": [
    "## Train SVM on standardized data"
   ]
  },
  {
   "cell_type": "code",
   "execution_count": 9,
   "metadata": {},
   "outputs": [],
   "source": [
    "# Next, we standardize our data\n",
    "from sklearn.preprocessing import StandardScaler\n",
    "scaler = StandardScaler()\n",
    "stdX = scaler.fit_transform(X)\n",
    "\n",
    "stdX_test = stdX[testIdx, :]\n",
    "stdX_train = np.delete(stdX, testIdx, axis=0)"
   ]
  },
  {
   "cell_type": "code",
   "execution_count": 16,
   "metadata": {},
   "outputs": [
    {
     "data": {
      "text/plain": [
       "LinearSVC(C=1.0, class_weight=None, dual=False, fit_intercept=True,\n",
       "     intercept_scaling=1, loss='squared_hinge', max_iter=10000,\n",
       "     multi_class='ovr', penalty='l2', random_state=None, tol=0.0001,\n",
       "     verbose=0)"
      ]
     },
     "execution_count": 16,
     "metadata": {},
     "output_type": "execute_result"
    }
   ],
   "source": [
    "stdClf = svm.LinearSVC(penalty='l2', dual=False, multi_class='ovr', max_iter=10000)\n",
    "stdClf.fit(stdX_train, y_train)"
   ]
  },
  {
   "cell_type": "code",
   "execution_count": 17,
   "metadata": {},
   "outputs": [
    {
     "name": "stdout",
     "output_type": "stream",
     "text": [
      "Misflassification error 0.475000\n"
     ]
    }
   ],
   "source": [
    "y_stdpred = stdClf.predict(stdX_test)\n",
    "a = confusion_matrix(y_test, y_stdpred)\n",
    "print(\"Misflassification error %f\" %((a.sum() - a.trace()) / a.sum()))"
   ]
  },
  {
   "cell_type": "markdown",
   "metadata": {},
   "source": [
    "## Feature Selection"
   ]
  },
  {
   "cell_type": "code",
   "execution_count": 21,
   "metadata": {},
   "outputs": [],
   "source": [
    "# do a little feature selection\n",
    "from sklearn.feature_selection import SelectKBest\n",
    "from sklearn.feature_selection import mutual_info_classif \n",
    "rX = SelectKBest(mutual_info_classif, k=1000).fit_transform(stdX, y)\n",
    "rX_test = rX[testIdx, :]\n",
    "rX_train = np.delete(rX, testIdx, axis=0)"
   ]
  },
  {
   "cell_type": "code",
   "execution_count": 22,
   "metadata": {},
   "outputs": [
    {
     "data": {
      "text/plain": [
       "LinearSVC(C=1.0, class_weight=None, dual=False, fit_intercept=False,\n",
       "     intercept_scaling=1, loss='squared_hinge', max_iter=10000,\n",
       "     multi_class='ovr', penalty='l2', random_state=None, tol=0.0001,\n",
       "     verbose=0)"
      ]
     },
     "execution_count": 22,
     "metadata": {},
     "output_type": "execute_result"
    }
   ],
   "source": [
    "otherCLF = svm.LinearSVC(penalty='l2', dual=False, fit_intercept=False, multi_class='ovr', max_iter=10000)\n",
    "otherCLF.fit(rX_train, y_train)"
   ]
  },
  {
   "cell_type": "code",
   "execution_count": 23,
   "metadata": {},
   "outputs": [
    {
     "name": "stdout",
     "output_type": "stream",
     "text": [
      "Misflassification error 0.545000\n"
     ]
    }
   ],
   "source": [
    "y_rpred = otherCLF.predict(rX_test)\n",
    "a2 = confusion_matrix(y_test, y_rpred)\n",
    "print(\"Misflassification error %f\" %((a2.sum() - a2.trace()) / a2.sum()))"
   ]
  },
  {
   "cell_type": "code",
   "execution_count": 24,
   "metadata": {},
   "outputs": [],
   "source": [
    "from concurrent.futures import ThreadPoolExecutor as PoolExecutor"
   ]
  }
 ],
 "metadata": {
  "kernelspec": {
   "display_name": "Python 3",
   "language": "python",
   "name": "python3"
  },
  "language_info": {
   "codemirror_mode": {
    "name": "ipython",
    "version": 3
   },
   "file_extension": ".py",
   "mimetype": "text/x-python",
   "name": "python",
   "nbconvert_exporter": "python",
   "pygments_lexer": "ipython3",
   "version": "3.7.1"
  }
 },
 "nbformat": 4,
 "nbformat_minor": 2
}
