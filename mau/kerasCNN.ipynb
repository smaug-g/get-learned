{
 "cells": [
  {
   "cell_type": "code",
   "execution_count": 1,
   "metadata": {},
   "outputs": [],
   "source": [
    "import numpy as np\n",
    "import pandas as pd\n",
    "TRAIN_CSV_NAME = 'train_data.csv'\n",
    "TRAIN_IMG_DIRECTORY = 'train_posters'\n",
    "SEED = 1\n",
    "np.random.seed(SEED) # Seed our randomness for reproducibilty"
   ]
  },
  {
   "cell_type": "markdown",
   "metadata": {},
   "source": [
    "Load data"
   ]
  },
  {
   "cell_type": "code",
   "execution_count": 2,
   "metadata": {},
   "outputs": [],
   "source": [
    "train_data_csv = pd.read_csv(TRAIN_CSV_NAME).values\n",
    "genres = np.array(train_data_csv[:,-1]).astype(int)"
   ]
  },
  {
   "cell_type": "code",
   "execution_count": 3,
   "metadata": {},
   "outputs": [],
   "source": [
    "# Choose indices for our test data\n",
    "testIdx = np.random.choice(train_data_csv.shape[0], 200, replace=False)"
   ]
  },
  {
   "cell_type": "code",
   "execution_count": 4,
   "metadata": {},
   "outputs": [],
   "source": [
    "y_test = genres[testIdx]\n",
    "y_train = np.delete(genres, testIdx)"
   ]
  },
  {
   "cell_type": "markdown",
   "metadata": {},
   "source": [
    "Load images"
   ]
  },
  {
   "cell_type": "code",
   "execution_count": 5,
   "metadata": {},
   "outputs": [],
   "source": [
    "from bg.util import preprocess_images\n",
    "images = np.array(preprocess_images(train_data_csv, TRAIN_IMG_DIRECTORY))"
   ]
  },
  {
   "cell_type": "code",
   "execution_count": 6,
   "metadata": {},
   "outputs": [],
   "source": [
    "x_test = images[testIdx]\n",
    "x_train = np.delete(images, testIdx, axis=0)"
   ]
  },
  {
   "cell_type": "markdown",
   "metadata": {},
   "source": [
    "Build CNN"
   ]
  },
  {
   "cell_type": "code",
   "execution_count": 7,
   "metadata": {},
   "outputs": [
    {
     "name": "stderr",
     "output_type": "stream",
     "text": [
      "Using TensorFlow backend.\n"
     ]
    }
   ],
   "source": [
    "import keras\n",
    "import tensorflow as tf\n",
    "from keras.datasets import mnist\n",
    "from keras.layers import Dense, Flatten\n",
    "from keras.layers import Conv2D, MaxPooling2D\n",
    "from keras.models import Sequential"
   ]
  },
  {
   "cell_type": "code",
   "execution_count": 8,
   "metadata": {},
   "outputs": [
    {
     "name": "stdout",
     "output_type": "stream",
     "text": [
      "x_train shape: (2894, 182, 268, 3)\n",
      "2894 train samples\n",
      "200 test samples\n"
     ]
    }
   ],
   "source": [
    "img_x, img_y = 182, 268\n",
    "input_shape = (img_x, img_y, 3)\n",
    "num_classes= 4\n",
    "batch_size = 100\n",
    "epochs = 10000\n",
    "\n",
    "# reshape the data into a 4D tensor - (sample_number, x_img_size, y_img_size, num_channels)\n",
    "# because the MNIST is greyscale, we only have a single channel - RGB colour images would have 3\n",
    "x_train = x_train.reshape(x_train.shape[0], img_x, img_y, 3)\n",
    "x_test = x_test.reshape(x_test.shape[0], img_x, img_y, 3)\n",
    "x_train = x_train.astype('float32')\n",
    "x_test = x_test.astype('float32')\n",
    "x_train /= 255\n",
    "x_test /= 255\n",
    "print('x_train shape:', x_train.shape)\n",
    "print(x_train.shape[0], 'train samples')\n",
    "print(x_test.shape[0], 'test samples')\n",
    "\n",
    "# convert class vectors to binary class matrices - this is for use in the\n",
    "# categorical_crossentropy loss below\n",
    "y_train = keras.utils.to_categorical(y_train, num_classes)\n",
    "y_test = keras.utils.to_categorical(y_test, num_classes)"
   ]
  },
  {
   "cell_type": "code",
   "execution_count": 9,
   "metadata": {},
   "outputs": [],
   "source": [
    "model = Sequential()\n",
    "model.add(Conv2D(32, kernel_size=(5, 5), strides=(1, 1),\n",
    "                 activation='relu',\n",
    "                 input_shape=input_shape))\n",
    "model.add(MaxPooling2D(pool_size=(2, 2), strides=(2, 2)))\n",
    "model.add(Conv2D(64, (5, 5), activation='relu'))\n",
    "model.add(MaxPooling2D(pool_size=(2, 2)))\n",
    "model.add(Flatten())\n",
    "model.add(Dense(1000, activation='relu'))\n",
    "model.add(Dense(num_classes, activation='softmax'))"
   ]
  },
  {
   "cell_type": "code",
   "execution_count": 10,
   "metadata": {},
   "outputs": [],
   "source": [
    "model.compile(loss=keras.losses.categorical_crossentropy,\n",
    "              optimizer=keras.optimizers.Adam(),\n",
    "              metrics=['accuracy'])"
   ]
  },
  {
   "cell_type": "code",
   "execution_count": 11,
   "metadata": {},
   "outputs": [],
   "source": [
    "import keras.backend.tensorflow_backend as ktf\n",
    "\n",
    "def get_session(gpu_fraction=.8):\n",
    "    gpu_options = tf.GPUOptions(per_process_gpu_memory_fraction=gpu_fraction,\n",
    "                                allow_growth=True)\n",
    "    return tf.Session(config=tf.ConfigProto(gpu_options=gpu_options))\n",
    "\n",
    "\n",
    "ktf.set_session(get_session())"
   ]
  },
  {
   "cell_type": "code",
   "execution_count": null,
   "metadata": {},
   "outputs": [
    {
     "name": "stdout",
     "output_type": "stream",
     "text": [
      "Train on 2894 samples, validate on 200 samples\n",
      "Epoch 1/10000\n",
      "2894/2894 [==============================] - 11s 4ms/step - loss: 2.9773 - acc: 0.2809 - val_loss: 1.3748 - val_acc: 0.3750\n",
      "Epoch 2/10000\n",
      "2894/2894 [==============================] - 4s 1ms/step - loss: 1.3475 - acc: 0.3614 - val_loss: 1.3741 - val_acc: 0.3700\n",
      "Epoch 3/10000\n",
      "2894/2894 [==============================] - 4s 1ms/step - loss: 1.2822 - acc: 0.3908 - val_loss: 1.3600 - val_acc: 0.3800\n",
      "Epoch 4/10000\n",
      "2894/2894 [==============================] - 4s 1ms/step - loss: 1.1764 - acc: 0.4603 - val_loss: 1.3590 - val_acc: 0.4200\n",
      "Epoch 5/10000\n",
      "2894/2894 [==============================] - 4s 1ms/step - loss: 1.0101 - acc: 0.5605 - val_loss: 1.6301 - val_acc: 0.3900\n",
      "Epoch 6/10000\n",
      "2894/2894 [==============================] - 4s 1ms/step - loss: 0.7998 - acc: 0.6638 - val_loss: 1.7123 - val_acc: 0.3550\n",
      "Epoch 7/10000\n",
      "2894/2894 [==============================] - 4s 1ms/step - loss: 0.5886 - acc: 0.7581 - val_loss: 2.0175 - val_acc: 0.3750\n",
      "Epoch 8/10000\n",
      "2894/2894 [==============================] - 4s 1ms/step - loss: 0.4289 - acc: 0.8362 - val_loss: 2.5710 - val_acc: 0.3500\n",
      "Epoch 9/10000\n",
      "2894/2894 [==============================] - 4s 1ms/step - loss: 0.3367 - acc: 0.8804 - val_loss: 2.6714 - val_acc: 0.3250\n",
      "Epoch 10/10000\n",
      "2894/2894 [==============================] - 4s 2ms/step - loss: 0.2627 - acc: 0.9136 - val_loss: 3.1430 - val_acc: 0.3600\n",
      "Epoch 11/10000\n",
      "2894/2894 [==============================] - 5s 2ms/step - loss: 0.2271 - acc: 0.9281 - val_loss: 2.9651 - val_acc: 0.3100\n",
      "Epoch 12/10000\n",
      "2894/2894 [==============================] - 5s 2ms/step - loss: 0.1583 - acc: 0.9568 - val_loss: 3.3843 - val_acc: 0.3450\n",
      "Epoch 13/10000\n",
      "2894/2894 [==============================] - 5s 2ms/step - loss: 0.1064 - acc: 0.9713 - val_loss: 3.9168 - val_acc: 0.3700\n",
      "Epoch 14/10000\n",
      "2894/2894 [==============================] - 5s 2ms/step - loss: 0.0840 - acc: 0.9782 - val_loss: 4.2191 - val_acc: 0.3950\n",
      "Epoch 15/10000\n",
      "2894/2894 [==============================] - 5s 2ms/step - loss: 0.0634 - acc: 0.9838 - val_loss: 4.3958 - val_acc: 0.3700\n",
      "Epoch 16/10000\n",
      "2894/2894 [==============================] - 5s 2ms/step - loss: 0.0595 - acc: 0.9858 - val_loss: 4.3825 - val_acc: 0.3700\n",
      "Epoch 17/10000\n",
      "2894/2894 [==============================] - 5s 2ms/step - loss: 0.0600 - acc: 0.9862 - val_loss: 4.4778 - val_acc: 0.3500\n",
      "Epoch 18/10000\n",
      "2894/2894 [==============================] - 4s 1ms/step - loss: 0.0532 - acc: 0.9883 - val_loss: 4.1887 - val_acc: 0.3750\n",
      "Epoch 19/10000\n",
      "2894/2894 [==============================] - 4s 1ms/step - loss: 0.1067 - acc: 0.9758 - val_loss: 3.7262 - val_acc: 0.3400\n",
      "Epoch 20/10000\n",
      "2894/2894 [==============================] - 4s 1ms/step - loss: 0.1085 - acc: 0.9734 - val_loss: 4.2425 - val_acc: 0.3700\n",
      "Epoch 21/10000\n",
      "2894/2894 [==============================] - 4s 1ms/step - loss: 0.0595 - acc: 0.9862 - val_loss: 4.3247 - val_acc: 0.3300\n",
      "Epoch 22/10000\n",
      "2894/2894 [==============================] - 4s 1ms/step - loss: 0.0683 - acc: 0.9886 - val_loss: 4.2730 - val_acc: 0.3700\n",
      "Epoch 23/10000\n",
      "2894/2894 [==============================] - 4s 1ms/step - loss: 0.0340 - acc: 0.9948 - val_loss: 4.7621 - val_acc: 0.3750\n",
      "Epoch 24/10000\n",
      "2894/2894 [==============================] - 4s 1ms/step - loss: 0.0457 - acc: 0.9924 - val_loss: 4.2886 - val_acc: 0.3650\n",
      "Epoch 25/10000\n",
      "2894/2894 [==============================] - 4s 1ms/step - loss: 0.0461 - acc: 0.9900 - val_loss: 4.2407 - val_acc: 0.3900\n",
      "Epoch 26/10000\n",
      "2894/2894 [==============================] - 4s 1ms/step - loss: 0.0380 - acc: 0.9914 - val_loss: 4.5777 - val_acc: 0.3100\n",
      "Epoch 27/10000\n",
      "2894/2894 [==============================] - 4s 1ms/step - loss: 0.0828 - acc: 0.9838 - val_loss: 4.3660 - val_acc: 0.3650\n",
      "Epoch 28/10000\n",
      "2894/2894 [==============================] - 4s 2ms/step - loss: 0.0572 - acc: 0.9872 - val_loss: 4.9447 - val_acc: 0.3150\n",
      "Epoch 29/10000\n",
      "2894/2894 [==============================] - 4s 2ms/step - loss: 0.0341 - acc: 0.9934 - val_loss: 4.6324 - val_acc: 0.3650\n",
      "Epoch 30/10000\n",
      " 600/2894 [=====>........................] - ETA: 3s - loss: 0.0392 - acc: 0.9967"
     ]
    }
   ],
   "source": [
    "import matplotlib.pyplot as plt\n",
    "class AccuracyHistory(keras.callbacks.Callback):\n",
    "    def on_train_begin(self, logs={}):\n",
    "        self.acc = []\n",
    "\n",
    "    def on_epoch_end(self, batch, logs={}):\n",
    "        self.acc.append(logs.get('acc'))\n",
    "\n",
    "history = AccuracyHistory()\n",
    "\n",
    "model.fit(x_train, y_train,\n",
    "          batch_size=batch_size,\n",
    "          epochs=epochs,\n",
    "          verbose=1,\n",
    "          validation_data=(x_test, y_test),\n",
    "          callbacks=[history])\n",
    "score = model.evaluate(x_test, y_test, verbose=0)\n",
    "print('Test loss:', score[0])\n",
    "print('Test accuracy:', score[1])\n",
    "plt.plot(range(1, 11), history.acc)\n",
    "plt.xlabel('Epochs')\n",
    "plt.ylabel('Accuracy')\n",
    "plt.show()"
   ]
  },
  {
   "cell_type": "code",
   "execution_count": null,
   "metadata": {},
   "outputs": [],
   "source": []
  }
 ],
 "metadata": {
  "kernelspec": {
   "display_name": "Environment (conda_tensorflow_p36)",
   "language": "python",
   "name": "conda_tensorflow_p36"
  },
  "language_info": {
   "codemirror_mode": {
    "name": "ipython",
    "version": 3
   },
   "file_extension": ".py",
   "mimetype": "text/x-python",
   "name": "python",
   "nbconvert_exporter": "python",
   "pygments_lexer": "ipython3",
   "version": "3.6.5"
  }
 },
 "nbformat": 4,
 "nbformat_minor": 2
}
